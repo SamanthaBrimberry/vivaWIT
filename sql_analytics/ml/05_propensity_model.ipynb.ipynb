{
 "cells": [
  {
   "cell_type": "code",
   "execution_count": 0,
   "metadata": {
    "application/vnd.databricks.v1+cell": {
     "cellMetadata": {
      "byteLimit": 2048000,
      "rowLimit": 10000
     },
     "inputWidgets": {},
     "nuid": "5637cc17-63de-4811-a760-a0c7518af7ea",
     "showTitle": false,
     "tableResultSettingsMap": {},
     "title": ""
    }
   },
   "outputs": [],
   "source": [
    "# !pip install mlflow\n",
    "import mlflow\n",
    "from databricks import automl\n",
    "from pyspark.sql import functions as F"
   ]
  },
  {
   "cell_type": "code",
   "execution_count": 0,
   "metadata": {
    "application/vnd.databricks.v1+cell": {
     "cellMetadata": {
      "byteLimit": 2048000,
      "rowLimit": 10000
     },
     "inputWidgets": {},
     "nuid": "0e384ca0-4fa3-4707-9d49-5b15b65a3c29",
     "showTitle": false,
     "tableResultSettingsMap": {},
     "title": ""
    }
   },
   "outputs": [],
   "source": [
    "CATALOG = \"lab\"\n",
    "SCHEMA = \"data\"\n",
    "# USER = \n",
    "\n",
    "spark.sql(f\"USE CATALOG {CATALOG}\")\n",
    "spark.sql(f\"USE SCHEMA {SCHEMA}\")\n",
    "\n",
    "# Build a labeled training set from silver tables\n",
    "clicks = spark.table(\"clicks_silver\").select(\"user_id\", \"event_date\")\n",
    "orders = spark.table(\"orders_silver\").select(\"user_id\", \"order_date\")\n",
    "\n",
    "label = clicks.join(orders, (clicks.user_id == orders.user_id) & (clicks.event_date == orders.order_date), \"left\") \\\n",
    "              .withColumn(\"converted\", F.when(F.col(\"order_date\").isNotNull(), F.lit(1)).otherwise(F.lit(0))) \\\n",
    "              .select(\"user_id\", F.col(\"event_date\").alias(\"date\"), \"converted\")\n",
    "\n",
    "features = (\n",
    "    spark.table(\"impressions_silver\").groupBy(\"user_id\", \"event_date\").agg(F.count(\"*\").alias(\"impressions\"))\n",
    "    .join(spark.table(\"clicks_silver\").groupBy(\"user_id\", \"event_date\").agg(F.count(\"*\").alias(\"clicks\")), [\"user_id\", \"event_date\"], \"left\")\n",
    "    .withColumnRenamed(\"event_date\", \"date\")\n",
    ")\n",
    "\n",
    "train_df = features.join(label, [\"user_id\", \"date\"], \"left\").fillna({\"clicks\": 0, \"converted\": 0})\n",
    "\n",
    "display_cols = [\"user_id\", \"date\", \"impressions\", \"clicks\", \"converted\"]\n",
    "\n",
    "mlflow.set_experiment(f\"/Shared/marketing_demo/propensity\")\n",
    "\n",
    "summary = automl.classify(\n",
    "    train_df.select(*display_cols).toPandas(),\n",
    "    target_col=\"converted\",\n",
    "    experiment_dir=f\"/Shared/marketing_demo/propensity\",\n",
    "    timeout_minutes=10\n",
    ")\n",
    "\n",
    "print(\"Best trial run_id:\", summary.best_trial.mlflow_run_id)\n",
    "print(\"Best model URI:\", summary.best_trial.model_path)\n"
   ]
  }
 ],
 "metadata": {
  "application/vnd.databricks.v1+notebook": {
   "computePreferences": null,
   "dashboards": [],
   "environmentMetadata": {
    "base_environment": "",
    "environment_version": "3"
   },
   "inputWidgetPreferences": null,
   "language": "python",
   "notebookMetadata": {
    "pythonIndentUnit": 2
   },
   "notebookName": "05_propensity_model.ipynb",
   "widgets": {}
  },
  "language_info": {
   "name": "python"
  }
 },
 "nbformat": 4,
 "nbformat_minor": 0
}
