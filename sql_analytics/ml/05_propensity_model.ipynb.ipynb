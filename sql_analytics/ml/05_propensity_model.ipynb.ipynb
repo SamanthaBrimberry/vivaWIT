{
 "cells": [
  {
   "cell_type": "code",
   "execution_count": 0,
   "metadata": {
    "application/vnd.databricks.v1+cell": {
     "cellMetadata": {
      "byteLimit": 2048000,
      "rowLimit": 10000
     },
     "inputWidgets": {},
     "nuid": "5637cc17-63de-4811-a760-a0c7518af7ea",
     "showTitle": false,
     "tableResultSettingsMap": {},
     "title": ""
    }
   },
   "outputs": [],
   "source": [
    "# !pip install mlflow\n",
    "import mlflow\n",
    "from databricks import automl\n",
    "from pyspark.sql import functions as F"
   ]
  },
  {
   "cell_type": "code",
   "execution_count": 0,
   "metadata": {
    "application/vnd.databricks.v1+cell": {
     "cellMetadata": {
      "byteLimit": 2048000,
      "rowLimit": 10000
     },
     "inputWidgets": {},
     "nuid": "0e384ca0-4fa3-4707-9d49-5b15b65a3c29",
     "showTitle": false,
     "tableResultSettingsMap": {},
     "title": ""
    }
   },
   "outputs": [],
   "source": [
    "CATALOG = \"lab\"\n",
    "SCHEMA = \"data\"\n",
    "\n",
    "spark.sql(f\"USE CATALOG {CATALOG}\")\n",
    "spark.sql(f\"USE SCHEMA {SCHEMA}\")\n",
    "\n",
    "# Build a labeled training set from silver tables\n",
    "clicks = spark.table(\"clicks_silver\").select(\"user_id\", \"event_date\")\n",
    "orders = spark.table(\"orders_silver\").select(\"user_id\", \"order_date\")\n",
    "\n",
    "label = (\n",
    "    clicks.join(\n",
    "        orders,\n",
    "        (clicks.user_id == orders.user_id) & (clicks.event_date == orders.order_date),\n",
    "        \"left\"\n",
    "    )\n",
    "    .withColumn(\n",
    "        \"converted\",\n",
    "        F.when(F.col(\"order_date\").isNotNull(), F.lit(1)).otherwise(F.lit(0))\n",
    "    )\n",
    "    .select(\n",
    "        clicks[\"user_id\"],\n",
    "        clicks[\"event_date\"].alias(\"date\"),\n",
    "        \"converted\"\n",
    "    )\n",
    ")\n",
    "\n",
    "display(label)"
   ]
  },
  {
   "cell_type": "code",
   "execution_count": 0,
   "metadata": {
    "application/vnd.databricks.v1+cell": {
     "cellMetadata": {
      "byteLimit": 2048000,
      "rowLimit": 10000
     },
     "inputWidgets": {},
     "nuid": "aa956164-cc9e-45ac-9ae8-2b5ae46b9bf0",
     "showTitle": false,
     "tableResultSettingsMap": {},
     "title": ""
    }
   },
   "outputs": [],
   "source": [
    "features = (\n",
    "    spark.table(\"impressions_silver\")\n",
    "    .groupBy(\"user_id\", \"event_date\")\n",
    "    .agg(F.count(\"*\").alias(\"impressions\"))\n",
    "    .join(\n",
    "        spark.table(\"clicks_silver\")\n",
    "        .groupBy(\"user_id\", \"event_date\")\n",
    "        .agg(F.count(\"*\").alias(\"clicks\")),\n",
    "        [\"user_id\", \"event_date\"],\n",
    "        \"left\"\n",
    "    )\n",
    "    .withColumnRenamed(\"event_date\", \"date\")\n",
    ")\n",
    "\n",
    "display(features)"
   ]
  },
  {
   "cell_type": "code",
   "execution_count": 0,
   "metadata": {
    "application/vnd.databricks.v1+cell": {
     "cellMetadata": {
      "byteLimit": 2048000,
      "rowLimit": 10000
     },
     "inputWidgets": {},
     "nuid": "60ff2875-f16a-4ea9-97b7-ec1d8a2f3186",
     "showTitle": false,
     "tableResultSettingsMap": {
      "0": {
       "dataGridStateBlob": "{\"version\":1,\"tableState\":{\"columnPinning\":{\"left\":[\"#row_number#\"],\"right\":[]},\"columnSizing\":{},\"columnVisibility\":{}},\"settings\":{\"columns\":{}},\"syncTimestamp\":1759770761859}",
       "filterBlob": null,
       "queryPlanFiltersBlob": null,
       "tableResultIndex": 0
      }
     },
     "title": ""
    }
   },
   "outputs": [],
   "source": [
    "train_df = label.join(features, [\"user_id\", \"date\"], \"left\")\n",
    "display(train_df)"
   ]
  },
  {
   "cell_type": "code",
   "execution_count": 0,
   "metadata": {
    "application/vnd.databricks.v1+cell": {
     "cellMetadata": {
      "byteLimit": 2048000,
      "rowLimit": 10000
     },
     "inputWidgets": {},
     "nuid": "0fe0bafa-c4be-4ddc-a972-286358f25edf",
     "showTitle": false,
     "tableResultSettingsMap": {},
     "title": ""
    }
   },
   "outputs": [],
   "source": [
    "summary = automl.classify(\n",
    "    train_df,\n",
    "    target_col=\"converted\",\n",
    "    experiment_dir=f\"/propensity_model\",\n",
    "    timeout_minutes=10\n",
    ")\n",
    "\n",
    "print(\"Best trial run_id:\", summary.best_trial.mlflow_run_id)\n",
    "print(\"Best model URI:\", summary.best_trial.model_path)"
   ]
  }
 ],
 "metadata": {
  "application/vnd.databricks.v1+notebook": {
   "computePreferences": null,
   "dashboards": [],
   "environmentMetadata": {
    "base_environment": "",
    "environment_version": "3"
   },
   "inputWidgetPreferences": null,
   "language": "python",
   "notebookMetadata": {
    "pythonIndentUnit": 2
   },
   "notebookName": "05_propensity_model.ipynb",
   "widgets": {}
  },
  "language_info": {
   "name": "python"
  }
 },
 "nbformat": 4,
 "nbformat_minor": 0
}
