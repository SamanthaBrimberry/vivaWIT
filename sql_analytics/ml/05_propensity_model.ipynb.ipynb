{
 "cells": [
  {
   "cell_type": "code",
   "execution_count": 0,
   "metadata": {
    "application/vnd.databricks.v1+cell": {
     "cellMetadata": {
      "byteLimit": 2048000,
      "rowLimit": 10000
     },
     "inputWidgets": {},
     "nuid": "5637cc17-63de-4811-a760-a0c7518af7ea",
     "showTitle": false,
     "tableResultSettingsMap": {},
     "title": ""
    }
   },
   "outputs": [],
   "source": [
    "# !pip install mlflow\n",
    "import mlflow\n",
    "from databricks import automl\n",
    "from pyspark.sql import functions as F"
   ]
  },
  {
   "cell_type": "code",
   "execution_count": 0,
   "metadata": {
    "application/vnd.databricks.v1+cell": {
     "cellMetadata": {
      "byteLimit": 2048000,
      "rowLimit": 10000
     },
     "inputWidgets": {},
     "nuid": "0e384ca0-4fa3-4707-9d49-5b15b65a3c29",
     "showTitle": false,
     "tableResultSettingsMap": {},
     "title": ""
    }
   },
   "outputs": [],
   "source": [
    "import pyspark.sql.functions as F\n",
    "\n",
    "CATALOG = \"lab\"\n",
    "SCHEMA = \"data\"\n",
    "\n",
    "spark.sql(f\"USE CATALOG {CATALOG}\")\n",
    "spark.sql(f\"USE SCHEMA {SCHEMA}\")\n",
    "\n",
    "# Build a labeled training set from silver tables\n",
    "clicks = spark.table(\"clicks_silver\").select(\"user_id\", \"event_date\")\n",
    "orders = spark.table(\"orders_silver\").select(\"user_id\", \"order_date\")\n",
    "\n",
    "label = (\n",
    "    clicks.join(\n",
    "        orders,\n",
    "        (clicks.user_id == orders.user_id) & (clicks.event_date == orders.order_date),\n",
    "        \"left\"\n",
    "    )\n",
    "    .withColumn(\n",
    "        \"converted\",\n",
    "        F.when(F.col(\"order_date\").isNotNull(), F.lit(1)).otherwise(F.lit(0))\n",
    "    )\n",
    "    .select(\n",
    "        clicks[\"user_id\"],\n",
    "        clicks[\"event_date\"].alias(\"date\"),\n",
    "        \"converted\"\n",
    "    )\n",
    ")\n",
    "\n",
    "display(label)"
   ]
  },
  {
   "cell_type": "code",
   "execution_count": 0,
   "metadata": {
    "application/vnd.databricks.v1+cell": {
     "cellMetadata": {},
     "inputWidgets": {},
     "nuid": "0fe0bafa-c4be-4ddc-a972-286358f25edf",
     "showTitle": false,
     "tableResultSettingsMap": {},
     "title": ""
    }
   },
   "outputs": [],
   "source": [
    "features = (\n",
    "    spark.table(\"impressions_silver\")\n",
    "    .groupBy(\"user_id\", \"event_date\")\n",
    "    .agg(F.count(\"*\").alias(\"impressions\"))\n",
    "    .join(\n",
    "        spark.table(\"clicks_silver\")\n",
    "        .groupBy(\"user_id\", \"event_date\")\n",
    "        .agg(F.count(\"*\").alias(\"clicks\")),\n",
    "        [\"user_id\", \"event_date\"],\n",
    "        \"left\"\n",
    "    )\n",
    "    .withColumnRenamed(\"event_date\", \"date\")\n",
    ")\n",
    "\n",
    "train_df = features.join(label, [\"user_id\", \"date\"], \"left\").fillna({\"clicks\": 0, \"converted\": 0})\n",
    "\n",
    "display_cols = [\"user_id\", \"date\", \"impressions\", \"clicks\", \"converted\"]\n",
    "\n",
    "mlflow.set_experiment(f\"/propensity\")\n",
    "\n",
    "summary = automl.classify(\n",
    "    train_df.select(*display_cols).toPandas(),\n",
    "    target_col=\"converted\",\n",
    "    experiment_dir=f\"/Shared/marketing_demo/propensity\",\n",
    "    timeout_minutes=10\n",
    ")\n",
    "\n",
    "print(\"Best trial run_id:\", summary.best_trial.mlflow_run_id)\n",
    "print(\"Best model URI:\", summary.best_trial.model_path)"
   ]
  }
 ],
 "metadata": {
  "application/vnd.databricks.v1+notebook": {
   "computePreferences": null,
   "dashboards": [],
   "environmentMetadata": {
    "base_environment": "",
    "environment_version": "3"
   },
   "inputWidgetPreferences": null,
   "language": "python",
   "notebookMetadata": {
    "pythonIndentUnit": 2
   },
   "notebookName": "05_propensity_model.ipynb",
   "widgets": {}
  },
  "language_info": {
   "name": "python"
  }
 },
 "nbformat": 4,
 "nbformat_minor": 0
}
