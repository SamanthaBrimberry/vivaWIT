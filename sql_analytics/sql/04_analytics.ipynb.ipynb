{
 "cells": [
  {
   "cell_type": "code",
   "execution_count": 0,
   "metadata": {
    "application/vnd.databricks.v1+cell": {
     "cellMetadata": {
      "byteLimit": 2048000,
      "implicitDf": true,
      "rowLimit": 10000
     },
     "inputWidgets": {},
     "nuid": "d36b7788-1f04-4e09-baca-adcb2b84dc8d",
     "showTitle": false,
     "tableResultSettingsMap": {},
     "title": ""
    }
   },
   "outputs": [],
   "source": [
    "%sql\n",
    "-- Databricks Marketing Demo - Analytics views\n",
    "-- Run after the DLT pipeline has created gold tables.\n",
    "\n",
    "USE CATALOG lab;\n",
    "USE SCHEMA data;\n",
    "\n",
    "-- View: ROAS, CAC, LTV by channel and day\n",
    "CREATE OR REPLACE VIEW lab.data.vw_channel_kpis AS\n",
    "WITH daily AS (\n",
    "  SELECT * FROM lab.data.channel_daily_gold\n",
    ")\n",
    "SELECT\n",
    "  date,\n",
    "  channel,\n",
    "  spend_usd,\n",
    "  impressions,\n",
    "  clicks,\n",
    "  ctr,\n",
    "  revenue_usd,\n",
    "  roas,\n",
    "  CASE WHEN clicks > 0 THEN spend_usd / clicks ELSE NULL END AS cpc_estimate,\n",
    "  CASE WHEN revenue_usd > 0 THEN spend_usd / revenue_usd ELSE NULL END AS cost_to_revenue_ratio\n",
    "FROM daily;\n",
    "\n",
    "-- Campaign performance summary\n",
    "CREATE OR REPLACE VIEW lab.data.vw_campaign_performance AS\n",
    "SELECT\n",
    "  d.date,\n",
    "  c.campaign_id,\n",
    "  c.campaign_name,\n",
    "  c.channel,\n",
    "  d.spend_usd,\n",
    "  d.impressions,\n",
    "  d.clicks,\n",
    "  d.ctr,\n",
    "  d.revenue_usd,\n",
    "  d.roas\n",
    "FROM lab.data.daily_channel_metrics_gold d\n",
    "JOIN campaigns_silver c USING (campaign_id);\n",
    "\n",
    "-- Simple customer LTV by signup cohort (last NUM_DAYS window)\n",
    "CREATE OR REPLACE VIEW lab.data.vw_ltv_by_cohort AS\n",
    "WITH orders AS (\n",
    "  SELECT o.user_id, o.order_date, o.revenue_usd FROM orders_silver o\n",
    "), customers AS (\n",
    "  SELECT user_id, signup_date, first_touch_channel FROM customers_silver\n",
    ")\n",
    "SELECT\n",
    "  DATE_TRUNC('week', c.signup_date) AS signup_week,\n",
    "  c.first_touch_channel AS channel,\n",
    "  COUNT(DISTINCT c.user_id) AS signups,\n",
    "  COUNT(DISTINCT o.user_id) AS buyers,\n",
    "  SUM(o.revenue_usd) AS revenue_usd,\n",
    "  CASE WHEN COUNT(DISTINCT o.user_id) > 0 THEN SUM(o.revenue_usd) / COUNT(DISTINCT o.user_id) ELSE 0 END AS ltv_per_buyer\n",
    "FROM customers c\n",
    "LEFT JOIN orders o ON o.user_id = c.user_id\n",
    "GROUP BY 1,2\n",
    "ORDER BY 1 DESC;"
   ]
  }
 ],
 "metadata": {
  "application/vnd.databricks.v1+notebook": {
   "computePreferences": null,
   "dashboards": [],
   "environmentMetadata": {
    "base_environment": "",
    "environment_version": "3"
   },
   "inputWidgetPreferences": null,
   "language": "python",
   "notebookMetadata": {
    "mostRecentlyExecutedCommandWithImplicitDF": {
     "commandId": 8321753609860619,
     "dataframes": [
      "_sqldf"
     ]
    },
    "pythonIndentUnit": 2
   },
   "notebookName": "04_analytics.ipynb",
   "widgets": {}
  },
  "language_info": {
   "name": "python"
  }
 },
 "nbformat": 4,
 "nbformat_minor": 0
}
