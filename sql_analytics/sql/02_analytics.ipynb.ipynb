{
 "cells": [
  {
   "cell_type": "code",
   "execution_count": 0,
   "metadata": {
    "application/vnd.databricks.v1+cell": {
     "cellMetadata": {
      "byteLimit": 2048000,
      "implicitDf": true,
      "rowLimit": 10000
     },
     "inputWidgets": {},
     "nuid": "5413e3a0-49b3-4dd7-98d5-a58261b1a652",
     "showTitle": false,
     "tableResultSettingsMap": {},
     "title": ""
    }
   },
   "outputs": [],
   "source": [
    "%sql\n",
    "USE CATALOG lab;\n",
    "USE SCHEMA data;"
   ]
  },
  {
   "cell_type": "markdown",
   "metadata": {
    "application/vnd.databricks.v1+cell": {
     "cellMetadata": {},
     "inputWidgets": {},
     "nuid": "b104d80d-3145-454b-8077-17c1cb7596eb",
     "showTitle": false,
     "tableResultSettingsMap": {},
     "title": ""
    }
   },
   "source": [
    "# Exploratory Data Analysis"
   ]
  },
  {
   "cell_type": "code",
   "execution_count": 0,
   "metadata": {
    "application/vnd.databricks.v1+cell": {
     "cellMetadata": {
      "byteLimit": 2048000,
      "implicitDf": true,
      "rowLimit": 10000
     },
     "inputWidgets": {},
     "nuid": "73e498c9-8a54-46d1-9562-e4f4d5491a5c",
     "showTitle": false,
     "tableResultSettingsMap": {
      "0": {
       "dataGridStateBlob": "{\"version\":1,\"tableState\":{\"columnPinning\":{\"left\":[\"#row_number#\"],\"right\":[]},\"columnSizing\":{},\"columnVisibility\":{}},\"settings\":{\"columns\":{}},\"syncTimestamp\":1759629130936}",
       "filterBlob": null,
       "queryPlanFiltersBlob": null,
       "tableResultIndex": 0
      }
     },
     "title": ""
    }
   },
   "outputs": [],
   "source": [
    "%sql\n",
    "-- Select all columns to review channel-level KPIs\n",
    "SELECT *\n",
    "FROM lab.data.channel_daily_gold\n",
    "ORDER BY date DESC, spend_usd DESC; -- Order by most recent date, then by channel"
   ]
  },
  {
   "cell_type": "code",
   "execution_count": 0,
   "metadata": {
    "application/vnd.databricks.v1+cell": {
     "cellMetadata": {
      "byteLimit": 2048000,
      "implicitDf": true,
      "rowLimit": 10000
     },
     "inputWidgets": {},
     "nuid": "0fc41bab-4078-497a-9d88-44a2ef8981b4",
     "showTitle": false,
     "tableResultSettingsMap": {},
     "title": ""
    }
   },
   "outputs": [],
   "source": [
    "%sql\n",
    "-- Completeness checks on key columns\n",
    "SELECT\n",
    "  COUNT(*) AS total_rows,\n",
    "  COUNT(date) AS non_null_dates,\n",
    "  COUNT(revenue_usd) AS non_null_revenue,\n",
    "  COUNT(spend_usd) AS non_null_spend\n",
    "FROM channel_daily_gold;"
   ]
  },
  {
   "cell_type": "code",
   "execution_count": 0,
   "metadata": {
    "application/vnd.databricks.v1+cell": {
     "cellMetadata": {
      "byteLimit": 2048000,
      "implicitDf": true,
      "rowLimit": 10000
     },
     "inputWidgets": {},
     "nuid": "31557cdf-1662-4b78-bbc2-7ab72404153a",
     "showTitle": false,
     "tableResultSettingsMap": {},
     "title": ""
    }
   },
   "outputs": [],
   "source": [
    "%sql\n",
    "-- Summary by channel\n",
    "SELECT\n",
    "  channel,\n",
    "  COUNT(*) AS days,\n",
    "  SUM(spend_usd) AS spend_usd,\n",
    "  SUM(revenue_usd) AS revenue_usd,\n",
    "  AVG(ctr) AS avg_ctr,\n",
    "  AVG(roas) AS avg_roas\n",
    "FROM channel_daily_gold\n",
    "GROUP BY channel\n",
    "ORDER BY revenue_usd DESC;"
   ]
  },
  {
   "cell_type": "code",
   "execution_count": 0,
   "metadata": {
    "application/vnd.databricks.v1+cell": {
     "cellMetadata": {
      "byteLimit": 2048000,
      "implicitDf": true,
      "rowLimit": 10000
     },
     "inputWidgets": {},
     "nuid": "8a9033c0-0a36-4b25-bdcf-5484793f6804",
     "showTitle": false,
     "tableResultSettingsMap": {
      "0": {
       "dataGridStateBlob": "{\"version\":1,\"tableState\":{\"columnPinning\":{\"left\":[\"#row_number#\"],\"right\":[]},\"columnSizing\":{},\"columnVisibility\":{}},\"settings\":{\"columns\":{}},\"syncTimestamp\":1759630714261}",
       "filterBlob": null,
       "queryPlanFiltersBlob": null,
       "tableResultIndex": 0
      }
     },
     "title": ""
    }
   },
   "outputs": [],
   "source": [
    "%sql\n",
    "-- Create a daily total KPI view across all channels\n",
    "With vw_daily_total_kpis AS\n",
    "(SELECT\n",
    "  date,\n",
    "  SUM(spend_usd) AS spend_usd,\n",
    "  SUM(impressions) AS impressions,\n",
    "  SUM(clicks) AS clicks,\n",
    "  CASE WHEN SUM(impressions) > 0 THEN SUM(clicks) * 1.0 / SUM(impressions) ELSE 0 END AS ctr,\n",
    "  SUM(revenue_usd) AS revenue_usd\n",
    "FROM channel_daily_gold\n",
    "GROUP BY date),\n",
    "\n",
    "-- 7-day rolling average\n",
    "rev_trend as\n",
    "(SELECT\n",
    "  date,\n",
    "  revenue_usd,\n",
    "  AVG(revenue_usd) OVER (\n",
    "    ORDER BY date\n",
    "    ROWS BETWEEN 6 PRECEDING AND CURRENT ROW\n",
    "  ) AS revenue_usd_ma7\n",
    "FROM vw_daily_total_kpis\n",
    "ORDER BY date),\n",
    "\n",
    "-- Weekday seasonality (across whole series)\n",
    "seasonality as\n",
    "(SELECT\n",
    "  DAYOFWEEK(date) AS dow,\n",
    "  DATE_FORMAT(date, 'E') AS weekday,\n",
    "  AVG(revenue_usd) AS avg_revenue,\n",
    "  AVG(spend_usd) AS avg_spend,\n",
    "  AVG(clicks) AS avg_clicks\n",
    "FROM vw_daily_total_kpis\n",
    "GROUP BY 1,2\n",
    "ORDER BY 1),\n",
    "\n",
    "corr as (\n",
    "  -- Correlation between spend and revenue (total series)\n",
    "SELECT corr(spend_usd, revenue_usd) AS corr_spend_revenue\n",
    "FROM vw_daily_total_kpis\n",
    ")\n",
    "\n",
    "-- select * from corr\n",
    "-- select * from seasonality\n",
    "-- select * from rev_trend\n",
    "select * from vw_daily_total_kpis"
   ]
  },
  {
   "cell_type": "code",
   "execution_count": 0,
   "metadata": {
    "application/vnd.databricks.v1+cell": {
     "cellMetadata": {
      "byteLimit": 2048000,
      "implicitDf": true,
      "rowLimit": 10000
     },
     "inputWidgets": {},
     "nuid": "ebede3b5-e24f-42e3-8e88-46522dffd1dc",
     "showTitle": false,
     "tableResultSettingsMap": {},
     "title": ""
    }
   },
   "outputs": [],
   "source": [
    "%sql\n",
    "-- Channel share over the last 7 days\n",
    "WITH recent AS (\n",
    "  SELECT *\n",
    "  FROM lab.data.channel_daily_gold\n",
    "  WHERE date >= DATEADD(day, -7, CURRENT_DATE())\n",
    ")\n",
    "SELECT\n",
    "  channel,\n",
    "  SUM(revenue_usd) AS revenue_usd,\n",
    "  SUM(spend_usd) AS spend_usd,\n",
    "  SUM(clicks) AS clicks\n",
    "FROM recent\n",
    "GROUP BY channel\n",
    "ORDER BY revenue_usd DESC;"
   ]
  }
 ],
 "metadata": {
  "application/vnd.databricks.v1+notebook": {
   "computePreferences": null,
   "dashboards": [],
   "environmentMetadata": {
    "base_environment": "",
    "environment_version": "3"
   },
   "inputWidgetPreferences": null,
   "language": "python",
   "notebookMetadata": {
    "mostRecentlyExecutedCommandWithImplicitDF": {
     "commandId": 8321753609860597,
     "dataframes": [
      "_sqldf"
     ]
    },
    "pythonIndentUnit": 2
   },
   "notebookName": "02_analytics.ipynb",
   "widgets": {}
  },
  "language_info": {
   "name": "python"
  }
 },
 "nbformat": 4,
 "nbformat_minor": 0
}
