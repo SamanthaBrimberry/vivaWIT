{
 "cells": [
  {
   "cell_type": "code",
   "execution_count": 0,
   "metadata": {
    "application/vnd.databricks.v1+cell": {
     "cellMetadata": {
      "byteLimit": 2048000,
      "implicitDf": true,
      "rowLimit": 10000
     },
     "inputWidgets": {},
     "nuid": "89900fec-b79b-4820-a4a7-a1ebdcbc0554",
     "showTitle": false,
     "tableResultSettingsMap": {},
     "title": ""
    }
   },
   "outputs": [],
   "source": [
    "%sql\n",
    "USE CATALOG lab; USE SCHEMA data;"
   ]
  },
  {
   "cell_type": "code",
   "execution_count": 0,
   "metadata": {
    "application/vnd.databricks.v1+cell": {
     "cellMetadata": {
      "byteLimit": 2048000,
      "implicitDf": true,
      "rowLimit": 10000
     },
     "inputWidgets": {},
     "nuid": "afe1302f-b7a0-4d27-9068-44b1ba9ae74a",
     "showTitle": false,
     "tableResultSettingsMap": {},
     "title": ""
    }
   },
   "outputs": [],
   "source": [
    "%sql\n",
    "CREATE OR REPLACE TABLE campaigns_silver\n",
    "AS\n",
    "SELECT\n",
    "  CAST(campaign_id AS INT) AS campaign_id,\n",
    "  campaign_name,\n",
    "  channel,\n",
    "  TO_DATE(start_date) AS start_date,\n",
    "  TO_DATE(end_date) AS end_date,\n",
    "  CAST(budget_usd AS DOUBLE) AS budget_usd,\n",
    "  objective\n",
    "FROM lab.data.campaigns;"
   ]
  },
  {
   "cell_type": "code",
   "execution_count": 0,
   "metadata": {
    "application/vnd.databricks.v1+cell": {
     "cellMetadata": {
      "byteLimit": 2048000,
      "implicitDf": true,
      "rowLimit": 10000
     },
     "inputWidgets": {},
     "nuid": "aab793d5-1265-4958-b786-c33832c5e8e4",
     "showTitle": false,
     "tableResultSettingsMap": {},
     "title": ""
    }
   },
   "outputs": [],
   "source": [
    "%sql\n",
    "CREATE OR REPLACE TABLE daily_spend_silver\n",
    "AS\n",
    "SELECT\n",
    "  CAST(campaign_id AS INT) AS campaign_id,\n",
    "  TO_DATE(date) AS date,\n",
    "  CAST(spend_usd AS DOUBLE) AS spend_usd\n",
    "FROM lab.data.daily_spend\n",
    "WHERE spend_usd >= 0;"
   ]
  },
  {
   "cell_type": "code",
   "execution_count": 0,
   "metadata": {
    "application/vnd.databricks.v1+cell": {
     "cellMetadata": {
      "byteLimit": 2048000,
      "implicitDf": true,
      "rowLimit": 10000
     },
     "inputWidgets": {},
     "nuid": "9a5bbdcf-605b-4ad9-abb1-8e48e74668b6",
     "showTitle": false,
     "tableResultSettingsMap": {},
     "title": ""
    }
   },
   "outputs": [],
   "source": [
    "%sql\n",
    "CREATE OR REPLACE TABLE impressions_silver\n",
    "AS\n",
    "SELECT\n",
    "  CAST(user_id AS INT) AS user_id,\n",
    "  CAST(campaign_id AS INT) AS campaign_id,\n",
    "  device,\n",
    "  country,\n",
    "  placement,\n",
    "  TIMESTAMP(event_ts) AS event_ts,\n",
    "  TO_DATE(event_ts) AS event_date\n",
    "FROM lab.data.impressions;"
   ]
  },
  {
   "cell_type": "code",
   "execution_count": 0,
   "metadata": {
    "application/vnd.databricks.v1+cell": {
     "cellMetadata": {
      "byteLimit": 2048000,
      "implicitDf": true,
      "rowLimit": 10000
     },
     "inputWidgets": {},
     "nuid": "21510a74-cecb-460a-a5da-1e2b16555bb6",
     "showTitle": false,
     "tableResultSettingsMap": {},
     "title": ""
    }
   },
   "outputs": [],
   "source": [
    "%sql\n",
    "CREATE OR REPLACE TABLE clicks_silver\n",
    "AS\n",
    "SELECT\n",
    "  CAST(user_id AS INT) AS user_id,\n",
    "  CAST(campaign_id AS INT) AS campaign_id,\n",
    "  device,\n",
    "  country,\n",
    "  placement,\n",
    "  TIMESTAMP(event_ts) AS event_ts,\n",
    "  TO_DATE(event_ts) AS event_date\n",
    "FROM lab.data.clicks;"
   ]
  },
  {
   "cell_type": "code",
   "execution_count": 0,
   "metadata": {
    "application/vnd.databricks.v1+cell": {
     "cellMetadata": {
      "byteLimit": 2048000,
      "implicitDf": true,
      "rowLimit": 10000
     },
     "inputWidgets": {},
     "nuid": "049a2180-cc6d-4ec2-a4a0-57df1d385b3e",
     "showTitle": false,
     "tableResultSettingsMap": {},
     "title": ""
    }
   },
   "outputs": [],
   "source": [
    "%sql\n",
    "CREATE OR REPLACE TABLE customers_silver\n",
    "AS\n",
    "SELECT\n",
    "  CAST(user_id AS INT) AS user_id,\n",
    "  TO_DATE(signup_date) AS signup_date,\n",
    "  first_touch_channel\n",
    "FROM lab.data.customers;"
   ]
  },
  {
   "cell_type": "code",
   "execution_count": 0,
   "metadata": {
    "application/vnd.databricks.v1+cell": {
     "cellMetadata": {
      "byteLimit": 2048000,
      "implicitDf": true,
      "rowLimit": 10000
     },
     "inputWidgets": {},
     "nuid": "9af81bdd-358c-417a-9ff4-7df23edf5f47",
     "showTitle": false,
     "tableResultSettingsMap": {},
     "title": ""
    }
   },
   "outputs": [],
   "source": [
    "%sql\n",
    "CREATE OR REPLACE TABLE orders_silver\n",
    "AS\n",
    "SELECT\n",
    "  CAST(user_id AS INT) AS user_id,\n",
    "  TO_DATE(order_date) AS order_date,\n",
    "  CAST(revenue_usd AS DOUBLE) AS revenue_usd\n",
    "FROM lab.data.orders\n",
    "WHERE revenue_usd >= 0;"
   ]
  },
  {
   "cell_type": "code",
   "execution_count": 0,
   "metadata": {
    "application/vnd.databricks.v1+cell": {
     "cellMetadata": {
      "byteLimit": 2048000,
      "implicitDf": true,
      "rowLimit": 10000
     },
     "inputWidgets": {},
     "nuid": "a9411244-582c-4942-9614-3490fba21f00",
     "showTitle": false,
     "tableResultSettingsMap": {},
     "title": ""
    }
   },
   "outputs": [],
   "source": [
    "%sql\n",
    "-- Gold: Aggregates and KPIs\n",
    "CREATE OR REPLACE TABLE daily_channel_metrics_gold\n",
    "AS\n",
    "WITH impr AS (\n",
    "  SELECT event_date AS date, campaign_id, COUNT(*) AS impressions\n",
    "  FROM lab.data.impressions_silver\n",
    "  GROUP BY 1,2\n",
    "), clk AS (\n",
    "  SELECT event_date AS date, campaign_id, COUNT(*) AS clicks\n",
    "  FROM lab.data.clicks_silver\n",
    "  GROUP BY 1,2\n",
    "), sp AS (\n",
    "  SELECT date, campaign_id, SUM(spend_usd) AS spend_usd\n",
    "  FROM lab.data.daily_spend_silver\n",
    "  GROUP BY 1,2\n",
    "), ord AS (\n",
    "  SELECT order_date AS date, user_id, SUM(revenue_usd) AS revenue_usd\n",
    "  FROM lab.data.orders_silver\n",
    "  GROUP BY 1,2\n",
    "), ch AS (\n",
    "  SELECT campaign_id, channel FROM lab.data.campaigns_silver\n",
    ")\n",
    "SELECT\n",
    "  COALESCE(sp.date, impr.date, clk.date) AS date,\n",
    "  COALESCE(sp.campaign_id, impr.campaign_id, clk.campaign_id) AS campaign_id,\n",
    "  ch.channel,\n",
    "  COALESCE(sp.spend_usd, 0) AS spend_usd,\n",
    "  COALESCE(impressions, 0) AS impressions,\n",
    "  COALESCE(clicks, 0) AS clicks,\n",
    "  CASE WHEN impressions > 0 THEN clicks / impressions ELSE 0 END AS ctr,\n",
    "  ord_kpis.revenue_usd,\n",
    "  CASE WHEN clicks > 0 THEN ord_kpis.orders * 1.0 / clicks ELSE 0 END AS cvr,\n",
    "  CASE WHEN COALESCE(spend_usd, 0) > 0 THEN COALESCE(ord_kpis.revenue_usd, 0) / spend_usd ELSE 0 END AS roas\n",
    "FROM sp\n",
    "FULL OUTER JOIN impr ON sp.date = impr.date AND sp.campaign_id = impr.campaign_id\n",
    "FULL OUTER JOIN clk ON COALESCE(sp.date, impr.date) = clk.date AND COALESCE(sp.campaign_id, impr.campaign_id) = clk.campaign_id\n",
    "LEFT JOIN ch ON COALESCE(sp.campaign_id, impr.campaign_id, clk.campaign_id) = ch.campaign_id\n",
    "LEFT JOIN (\n",
    "  SELECT d.date, d.campaign_id,\n",
    "         COUNT(DISTINCT o.user_id) AS orders,\n",
    "         SUM(o.revenue_usd) AS revenue_usd\n",
    "  FROM (\n",
    "    SELECT DISTINCT event_date AS date, campaign_id, user_id\n",
    "    FROM lab.data.clicks_silver\n",
    "  ) d\n",
    "  LEFT JOIN lab.data.orders_silver o ON o.user_id = d.user_id AND o.order_date = d.date\n",
    "  GROUP BY 1,2\n",
    ") ord_kpis ON ord_kpis.date = COALESCE(sp.date, impr.date, clk.date)\n",
    "          AND ord_kpis.campaign_id = COALESCE(sp.campaign_id, impr.campaign_id, clk.campaign_id);"
   ]
  },
  {
   "cell_type": "code",
   "execution_count": 0,
   "metadata": {
    "application/vnd.databricks.v1+cell": {
     "cellMetadata": {
      "byteLimit": 2048000,
      "implicitDf": true,
      "rowLimit": 10000
     },
     "inputWidgets": {},
     "nuid": "173b7c72-cd4b-443c-8a47-4c0ee9e4dc9f",
     "showTitle": false,
     "tableResultSettingsMap": {},
     "title": ""
    }
   },
   "outputs": [],
   "source": [
    "%sql\n",
    "CREATE OR REPLACE TABLE channel_daily_gold\n",
    "AS\n",
    "SELECT date, channel,\n",
    "       SUM(spend_usd) AS spend_usd,\n",
    "       SUM(impressions) AS impressions,\n",
    "       SUM(clicks) AS clicks,\n",
    "       CASE WHEN SUM(impressions) > 0 THEN SUM(clicks) * 1.0 / SUM(impressions) ELSE 0 END AS ctr,\n",
    "       SUM(revenue_usd) AS revenue_usd,\n",
    "       CASE WHEN SUM(clicks) > 0 THEN COUNT(*) * 1.0 / SUM(clicks) ELSE 0 END AS cvr_estimate,\n",
    "       CASE WHEN SUM(spend_usd) > 0 THEN SUM(revenue_usd) / SUM(spend_usd) ELSE 0 END AS roas\n",
    "FROM lab.data.daily_channel_metrics_gold\n",
    "GROUP BY 1,2;"
   ]
  }
 ],
 "metadata": {
  "application/vnd.databricks.v1+notebook": {
   "computePreferences": null,
   "dashboards": [],
   "environmentMetadata": {
    "base_environment": "",
    "environment_version": "3"
   },
   "inputWidgetPreferences": null,
   "language": "python",
   "notebookMetadata": {
    "mostRecentlyExecutedCommandWithImplicitDF": {
     "commandId": 8321753609860503,
     "dataframes": [
      "_sqldf"
     ]
    },
    "pythonIndentUnit": 2
   },
   "notebookName": "ETL_notebook",
   "widgets": {}
  },
  "language_info": {
   "name": "python"
  }
 },
 "nbformat": 4,
 "nbformat_minor": 0
}
