{
 "cells": [
  {
   "cell_type": "code",
   "execution_count": 0,
   "metadata": {
    "application/vnd.databricks.v1+cell": {
     "cellMetadata": {
      "byteLimit": 10485760,
      "rowLimit": 1000
     },
     "inputWidgets": {},
     "nuid": "34e21f52-3846-4b7b-b6e2-da2b3bb62b8a",
     "showTitle": false,
     "tableResultSettingsMap": {
      "0": {
       "dataGridStateBlob": "{\"version\":1,\"tableState\":{\"columnPinning\":{\"left\":[\"#row_number#\"],\"right\":[]},\"columnSizing\":{},\"columnVisibility\":{}},\"settings\":{\"columns\":{}},\"syncTimestamp\":1759377595019}",
       "filterBlob": null,
       "queryPlanFiltersBlob": null,
       "tableResultIndex": 0
      }
     },
     "title": ""
    }
   },
   "outputs": [],
   "source": [
    "-- 14-day forecast for total revenue\n",
    "With vw_daily_total_kpis AS\n",
    "(SELECT\n",
    "  date,\n",
    "  SUM(spend_usd) AS spend_usd,\n",
    "  SUM(impressions) AS impressions,\n",
    "  SUM(clicks) AS clicks,\n",
    "  CASE WHEN SUM(impressions) > 0 THEN SUM(clicks) * 1.0 / SUM(impressions) ELSE 0 END AS ctr,\n",
    "  SUM(revenue_usd) AS revenue_usd\n",
    "FROM lab.data.channel_daily_gold\n",
    "GROUP BY date),\n",
    "\n",
    "series AS (\n",
    "  SELECT date, revenue_usd\n",
    "  FROM vw_daily_total_kpis\n",
    "  ORDER BY date\n",
    ")\n",
    "\n",
    "SELECT *\n",
    "FROM AI_FORECAST(\n",
    "  TABLE(series),\n",
    "  horizon => DATEADD(day, 14, CURRENT_DATE()),\n",
    "  time_col => 'date',\n",
    "  value_col => 'revenue_usd',\n",
    "  prediction_interval_width => 0.90\n",
    ");"
   ]
  }
 ],
 "metadata": {
  "application/vnd.databricks.v1+notebook": {
   "computePreferences": null,
   "dashboards": [],
   "environmentMetadata": null,
   "inputWidgetPreferences": null,
   "language": "sql",
   "notebookMetadata": {
    "pythonIndentUnit": 2,
    "sqlQueryOptions": {
     "applyAutoLimit": true,
     "catalog": "hive_metastore",
     "schema": "007d90de_9003_469e_b10d_c1400b2106f1"
    }
   },
   "notebookName": "03_rev_forecast.sql.dbquery.ipynb",
   "widgets": {}
  },
  "language_info": {
   "name": "sql"
  }
 },
 "nbformat": 4,
 "nbformat_minor": 0
}
