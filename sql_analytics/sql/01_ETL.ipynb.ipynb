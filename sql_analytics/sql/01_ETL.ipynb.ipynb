{
 "cells": [
  {
   "cell_type": "code",
   "execution_count": 0,
   "metadata": {
    "application/vnd.databricks.v1+cell": {
     "cellMetadata": {
      "byteLimit": 2048000,
      "implicitDf": true,
      "rowLimit": 10000
     },
     "inputWidgets": {},
     "nuid": "89900fec-b79b-4820-a4a7-a1ebdcbc0554",
     "showTitle": false,
     "tableResultSettingsMap": {},
     "title": ""
    }
   },
   "outputs": [],
   "source": [
    "%sql\n",
    "USE CATALOG lab; \n",
    "USE SCHEMA data;"
   ]
  },
  {
   "cell_type": "markdown",
   "metadata": {
    "application/vnd.databricks.v1+cell": {
     "cellMetadata": {},
     "inputWidgets": {},
     "nuid": "068d0817-6b19-4e59-b131-718382b93e82",
     "showTitle": false,
     "tableResultSettingsMap": {},
     "title": ""
    }
   },
   "source": [
    "# Step 1: Create campaigns_silver table\n",
    "This table standardizes data types and cleanses the raw campaigns data for downstream analytics and joins."
   ]
  },
  {
   "cell_type": "code",
   "execution_count": 0,
   "metadata": {
    "application/vnd.databricks.v1+cell": {
     "cellMetadata": {},
     "inputWidgets": {},
     "nuid": "01d2bd76-8ade-4d5f-9222-0a583634d175",
     "showTitle": true,
     "tableResultSettingsMap": {},
     "title": "campaigns_silver SQL with expiration comment"
    }
   },
   "outputs": [],
   "source": [
    "%sql\n",
    "CREATE OR REPLACE TABLE campaigns_silver\n",
    "AS\n",
    "SELECT\n",
    "  CAST(campaign_id AS INT) AS campaign_id,\n",
    "  campaign_name,\n",
    "  channel,\n",
    "  TO_DATE(start_date) AS start_date,\n",
    "  TO_DATE(end_date) AS end_date,\n",
    "  CAST(budget_usd AS DOUBLE) AS budget_usd,\n",
    "  objective\n",
    "FROM lab.data.campaigns;"
   ]
  },
  {
   "cell_type": "markdown",
   "metadata": {
    "application/vnd.databricks.v1+cell": {
     "cellMetadata": {},
     "inputWidgets": {},
     "nuid": "0692b226-375e-4464-9654-7f931e87e3ee",
     "showTitle": false,
     "tableResultSettingsMap": {},
     "title": ""
    }
   },
   "source": [
    "# Step 2: Create daily_spend_silver table\n",
    "This table standardizes and cleanses the raw daily spend data, filtering out negative spend values for accurate reporting."
   ]
  },
  {
   "cell_type": "code",
   "execution_count": 0,
   "metadata": {
    "application/vnd.databricks.v1+cell": {
     "cellMetadata": {},
     "inputWidgets": {},
     "nuid": "f6dd34d4-d483-4d36-919b-8ea6c21b77bf",
     "showTitle": true,
     "tableResultSettingsMap": {},
     "title": "daily_spend_silver SQL with expiration comment"
    }
   },
   "outputs": [],
   "source": [
    "%sql\n",
    "CREATE OR REPLACE TABLE daily_spend_silver\n",
    "AS\n",
    "SELECT\n",
    "  CAST(campaign_id AS INT) AS campaign_id,\n",
    "  TO_DATE(date) AS date,\n",
    "  CAST(spend_usd AS DOUBLE) AS spend_usd\n",
    "FROM lab.data.daily_spend\n",
    "WHERE spend_usd >= 0;"
   ]
  },
  {
   "cell_type": "markdown",
   "metadata": {
    "application/vnd.databricks.v1+cell": {
     "cellMetadata": {},
     "inputWidgets": {},
     "nuid": "84a9ef85-2c90-40ce-8084-0831ba4e4ef6",
     "showTitle": false,
     "tableResultSettingsMap": {},
     "title": ""
    }
   },
   "source": [
    "# Step 3: Create impressions_silver table\n",
    "Purpose: This table standardizes and cleanses the raw impressions data for downstream analytics and attribution."
   ]
  },
  {
   "cell_type": "code",
   "execution_count": 0,
   "metadata": {
    "application/vnd.databricks.v1+cell": {
     "cellMetadata": {},
     "inputWidgets": {},
     "nuid": "2e60de3d-db48-49c0-be42-5e47010263a7",
     "showTitle": true,
     "tableResultSettingsMap": {},
     "title": "impressions_silver SQL with expiration comment"
    }
   },
   "outputs": [],
   "source": [
    "%sql\n",
    "CREATE OR REPLACE TABLE impressions_silver\n",
    "AS\n",
    "SELECT\n",
    "  CAST(user_id AS INT) AS user_id,          -- cast to INT for consistency\n",
    "  CAST(campaign_id AS INT) AS campaign_id,  -- cast to INT for consistency\n",
    "  device,\n",
    "  country,\n",
    "  placement,\n",
    "  TIMESTAMP(event_ts) AS event_ts,          -- convert string timestamp to TIMESTAMP\n",
    "  TO_DATE(event_ts) AS event_date           -- derive date for partitioning\n",
    "FROM lab.data.impressions;"
   ]
  },
  {
   "cell_type": "markdown",
   "metadata": {
    "application/vnd.databricks.v1+cell": {
     "cellMetadata": {},
     "inputWidgets": {},
     "nuid": "3f2d2d21-8e18-42f2-9fcf-a00706e681cd",
     "showTitle": false,
     "tableResultSettingsMap": {},
     "title": ""
    }
   },
   "source": [
    "# Step 4: Create clicks_silver table\n",
    "This table standardizes and cleanses the raw clicks data for downstream analytics and attribution."
   ]
  },
  {
   "cell_type": "code",
   "execution_count": 0,
   "metadata": {
    "application/vnd.databricks.v1+cell": {
     "cellMetadata": {},
     "inputWidgets": {},
     "nuid": "8ed66bd5-b931-4647-87b8-90a206c9a452",
     "showTitle": true,
     "tableResultSettingsMap": {},
     "title": "clicks_silver SQL with expiration comment"
    }
   },
   "outputs": [],
   "source": [
    "%sql\n",
    "CREATE OR REPLACE TABLE clicks_silver\n",
    "AS\n",
    "SELECT\n",
    "  CAST(user_id AS INT) AS user_id,\n",
    "  CAST(campaign_id AS INT) AS campaign_id,\n",
    "  device,\n",
    "  country,\n",
    "  placement,\n",
    "  TIMESTAMP(event_ts) AS event_ts,\n",
    "  TO_DATE(event_ts) AS event_date\n",
    "FROM lab.data.clicks;"
   ]
  },
  {
   "cell_type": "markdown",
   "metadata": {
    "application/vnd.databricks.v1+cell": {
     "cellMetadata": {},
     "inputWidgets": {},
     "nuid": "52a2d3dd-18f9-4e5a-a790-03020e7ae129",
     "showTitle": false,
     "tableResultSettingsMap": {},
     "title": ""
    }
   },
   "source": [
    "# Step 5: Create customers_silver table\n",
    "This table standardizes and cleanses the raw customers data for downstream analytics and attribution."
   ]
  },
  {
   "cell_type": "code",
   "execution_count": 0,
   "metadata": {
    "application/vnd.databricks.v1+cell": {
     "cellMetadata": {},
     "inputWidgets": {},
     "nuid": "81f3349c-2045-49ce-8768-c39492b54d17",
     "showTitle": true,
     "tableResultSettingsMap": {},
     "title": "customers_silver SQL with expiration comment"
    }
   },
   "outputs": [],
   "source": [
    "%sql\n",
    "CREATE OR REPLACE TABLE customers_silver\n",
    "AS\n",
    "SELECT\n",
    "  CAST(user_id AS INT) AS user_id,\n",
    "  TO_DATE(signup_date) AS signup_date,\n",
    "  first_touch_channel\n",
    "FROM lab.data.customers;"
   ]
  },
  {
   "cell_type": "markdown",
   "metadata": {
    "application/vnd.databricks.v1+cell": {
     "cellMetadata": {},
     "inputWidgets": {},
     "nuid": "174aa891-e351-40f1-8b2f-a1cd58e9f17c",
     "showTitle": false,
     "tableResultSettingsMap": {},
     "title": ""
    }
   },
   "source": [
    "# Step 6: Create orders_silver table\n",
    "This table standardizes and cleanses the raw orders data, filtering out negative revenue values for accurate reporting."
   ]
  },
  {
   "cell_type": "code",
   "execution_count": 0,
   "metadata": {
    "application/vnd.databricks.v1+cell": {
     "cellMetadata": {},
     "inputWidgets": {},
     "nuid": "faab51aa-a5e0-4175-9760-716b78f242cc",
     "showTitle": true,
     "tableResultSettingsMap": {},
     "title": "orders_silver SQL with expiration comment"
    }
   },
   "outputs": [],
   "source": [
    "%sql\n",
    "CREATE OR REPLACE TABLE orders_silver\n",
    "AS\n",
    "SELECT\n",
    "  CAST(user_id AS INT) AS user_id,\n",
    "  TO_DATE(order_date) AS order_date,\n",
    "  CAST(revenue_usd AS DOUBLE) AS revenue_usd\n",
    "FROM lab.data.orders\n",
    "WHERE revenue_usd >= 0;"
   ]
  },
  {
   "cell_type": "markdown",
   "metadata": {
    "application/vnd.databricks.v1+cell": {
     "cellMetadata": {},
     "inputWidgets": {},
     "nuid": "9971e1ea-0bf0-4e64-95fc-3961072c4ca7",
     "showTitle": false,
     "tableResultSettingsMap": {},
     "title": ""
    }
   },
   "source": [
    "# Step 7: Create daily_channel_metrics_gold table\n",
    "This table aggregates silver layer data to produce daily campaign/channel-level KPIs (spend, impressions, clicks, CTR, CVR, ROAS, etc.) for reporting and analysis."
   ]
  },
  {
   "cell_type": "code",
   "execution_count": 0,
   "metadata": {
    "application/vnd.databricks.v1+cell": {
     "cellMetadata": {},
     "inputWidgets": {},
     "nuid": "ef487755-2c18-4473-a91d-d7a503fde1b7",
     "showTitle": true,
     "tableResultSettingsMap": {},
     "title": "daily_channel_metrics_gold SQL with expiration comment"
    }
   },
   "outputs": [],
   "source": [
    "%sql\n",
    "-- Gold: Aggregates and KPIs\n",
    "CREATE OR REPLACE TABLE daily_channel_metrics_gold\n",
    "AS\n",
    "WITH impr AS (\n",
    "  -- Aggregate impressions by date and campaign\n",
    "  SELECT event_date AS date, campaign_id, COUNT(*) AS impressions\n",
    "  FROM lab.data.impressions_silver\n",
    "  GROUP BY 1,2\n",
    "), clk AS (\n",
    "  -- Aggregate clicks by date and campaign\n",
    "  SELECT event_date AS date, campaign_id, COUNT(*) AS clicks\n",
    "  FROM lab.data.clicks_silver\n",
    "  GROUP BY 1,2\n",
    "), sp AS (\n",
    "  -- Aggregate spend by date and campaign\n",
    "  SELECT date, campaign_id, SUM(spend_usd) AS spend_usd\n",
    "  FROM lab.data.daily_spend_silver\n",
    "  GROUP BY 1,2\n",
    "), ord AS (\n",
    "  -- Aggregate revenue by order date and user\n",
    "  SELECT order_date AS date, user_id, SUM(revenue_usd) AS revenue_usd\n",
    "  FROM lab.data.orders_silver\n",
    "  GROUP BY 1,2\n",
    "), ch AS (\n",
    "  -- Get campaign-channel mapping\n",
    "  SELECT campaign_id, channel FROM lab.data.campaigns_silver\n",
    ")\n",
    "SELECT\n",
    "  COALESCE(sp.date, impr.date, clk.date) AS date, -- Use available date from spend, impressions, or clicks\n",
    "  COALESCE(sp.campaign_id, impr.campaign_id, clk.campaign_id) AS campaign_id, -- Use available campaign_id\n",
    "  ch.channel, -- Channel name from campaigns_silver\n",
    "  COALESCE(sp.spend_usd, 0) AS spend_usd, -- Default spend to 0 if missing\n",
    "  COALESCE(impressions, 0) AS impressions, -- Default impressions to 0 if missing\n",
    "  COALESCE(clicks, 0) AS clicks, -- Default clicks to 0 if missing\n",
    "  CASE WHEN impressions > 0 THEN clicks / impressions ELSE 0 END AS ctr, -- Click-through rate\n",
    "  ord_kpis.revenue_usd, -- Revenue attributed to campaign/date\n",
    "  CASE WHEN clicks > 0 THEN ord_kpis.orders * 1.0 / clicks ELSE 0 END AS cvr, -- Conversion rate\n",
    "  CASE WHEN COALESCE(spend_usd, 0) > 0 THEN COALESCE(ord_kpis.revenue_usd, 0) / spend_usd ELSE 0 END AS roas -- Return on ad spend\n",
    "FROM sp\n",
    "FULL OUTER JOIN impr ON sp.date = impr.date AND sp.campaign_id = impr.campaign_id -- Join spend and impressions\n",
    "FULL OUTER JOIN clk ON COALESCE(sp.date, impr.date) = clk.date AND COALESCE(sp.campaign_id, impr.campaign_id) = clk.campaign_id -- Join clicks\n",
    "LEFT JOIN ch ON COALESCE(sp.campaign_id, impr.campaign_id, clk.campaign_id) = ch.campaign_id -- Join channel info\n",
    "LEFT JOIN (\n",
    "  -- Attribution: count orders and sum revenue for users who clicked on a campaign on a given date\n",
    "  SELECT d.date, d.campaign_id,\n",
    "         COUNT(DISTINCT o.user_id) AS orders, -- Number of unique users who ordered\n",
    "         SUM(o.revenue_usd) AS revenue_usd -- Total revenue from those users\n",
    "  FROM (\n",
    "    SELECT DISTINCT event_date AS date, campaign_id, user_id\n",
    "    FROM lab.data.clicks_silver\n",
    "  ) d\n",
    "  LEFT JOIN lab.data.orders_silver o ON o.user_id = d.user_id AND o.order_date = d.date -- Attribute orders to click date\n",
    "  GROUP BY 1,2\n",
    ") ord_kpis ON ord_kpis.date = COALESCE(sp.date, impr.date, clk.date)\n",
    "          AND ord_kpis.campaign_id = COALESCE(sp.campaign_id, impr.campaign_id, clk.campaign_id);"
   ]
  },
  {
   "cell_type": "markdown",
   "metadata": {
    "application/vnd.databricks.v1+cell": {
     "cellMetadata": {},
     "inputWidgets": {},
     "nuid": "ab17c7d2-e94a-44fc-8698-6e51c06f32d3",
     "showTitle": false,
     "tableResultSettingsMap": {},
     "title": ""
    }
   },
   "source": [
    "# Step 8: Create channel_daily_gold table\n",
    "This table further aggregates daily_channel_metrics_gold to the channel level for high-level reporting and dashboarding."
   ]
  },
  {
   "cell_type": "code",
   "execution_count": 0,
   "metadata": {
    "application/vnd.databricks.v1+cell": {
     "cellMetadata": {},
     "inputWidgets": {},
     "nuid": "66643473-ff70-436b-ad0e-ca2000f96418",
     "showTitle": true,
     "tableResultSettingsMap": {},
     "title": "channel_daily_gold SQL with expiration comment"
    }
   },
   "outputs": [],
   "source": [
    "%sql\n",
    "CREATE OR REPLACE TABLE channel_daily_gold\n",
    "AS\n",
    "SELECT date, channel,\n",
    "       SUM(spend_usd) AS spend_usd,\n",
    "       SUM(impressions) AS impressions,\n",
    "       SUM(clicks) AS clicks,\n",
    "       CASE WHEN SUM(impressions) > 0 THEN SUM(clicks) * 1.0 / SUM(impressions) ELSE 0 END AS ctr,\n",
    "       SUM(revenue_usd) AS revenue_usd,\n",
    "       CASE WHEN SUM(clicks) > 0 THEN COUNT(*) * 1.0 / SUM(clicks) ELSE 0 END AS cvr_estimate,\n",
    "       CASE WHEN SUM(spend_usd) > 0 THEN SUM(revenue_usd) / SUM(spend_usd) ELSE 0 END AS roas\n",
    "FROM lab.data.daily_channel_metrics_gold\n",
    "GROUP BY 1,2;"
   ]
  }
 ],
 "metadata": {
  "application/vnd.databricks.v1+notebook": {
   "computePreferences": null,
   "dashboards": [],
   "environmentMetadata": {
    "base_environment": "",
    "environment_version": "3"
   },
   "inputWidgetPreferences": null,
   "language": "python",
   "notebookMetadata": {
    "mostRecentlyExecutedCommandWithImplicitDF": {
     "commandId": 8321753609860503,
     "dataframes": [
      "_sqldf"
     ]
    },
    "pythonIndentUnit": 2
   },
   "notebookName": "01_ETL.ipynb",
   "widgets": {}
  },
  "language_info": {
   "name": "python"
  }
 },
 "nbformat": 4,
 "nbformat_minor": 0
}
